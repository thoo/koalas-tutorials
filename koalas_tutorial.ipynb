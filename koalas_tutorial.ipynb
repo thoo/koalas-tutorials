{
 "cells": [
  {
   "cell_type": "code",
   "execution_count": 2,
   "metadata": {
    "ExecuteTime": {
     "end_time": "2019-09-20T01:16:39.613561Z",
     "start_time": "2019-09-20T01:16:39.608223Z"
    }
   },
   "outputs": [],
   "source": [
    "# To find the correct pyspark in \n",
    "import findspark\n",
    "findspark.init()\n",
    "# import pyspark\n"
   ]
  },
  {
   "cell_type": "code",
   "execution_count": 1,
   "metadata": {
    "ExecuteTime": {
     "end_time": "2019-09-20T01:38:02.347738Z",
     "start_time": "2019-09-20T01:38:01.839296Z"
    }
   },
   "outputs": [],
   "source": [
    "import databricks.koalas as ks\n",
    "import numpy as np\n",
    "import pandas as pd\n",
    "import os\n",
    "import sys"
   ]
  },
  {
   "cell_type": "markdown",
   "metadata": {},
   "source": [
    "### Read CSV File."
   ]
  },
  {
   "cell_type": "code",
   "execution_count": 2,
   "metadata": {
    "ExecuteTime": {
     "end_time": "2019-09-20T01:38:08.377469Z",
     "start_time": "2019-09-20T01:38:08.374775Z"
    }
   },
   "outputs": [],
   "source": [
    "# location of data\n",
    "data_path = os.path.join('data',\n",
    "                         'nyc_restaurant_inspection_results_sample1.csv')"
   ]
  },
  {
   "cell_type": "code",
   "execution_count": 49,
   "metadata": {
    "ExecuteTime": {
     "end_time": "2019-09-20T03:44:56.142411Z",
     "start_time": "2019-09-20T03:44:55.891048Z"
    }
   },
   "outputs": [],
   "source": [
    "# import to kolas df\n",
    "df = ks.read_csv(data_path)"
   ]
  },
  {
   "cell_type": "code",
   "execution_count": 7,
   "metadata": {
    "ExecuteTime": {
     "end_time": "2019-09-20T01:41:47.863816Z",
     "start_time": "2019-09-20T01:41:47.848643Z"
    }
   },
   "outputs": [],
   "source": [
    "# import to pandas df\n",
    "pddf = pd.read_csv(data_path)"
   ]
  },
  {
   "cell_type": "markdown",
   "metadata": {},
   "source": [
    "### Memory usage "
   ]
  },
  {
   "cell_type": "code",
   "execution_count": 9,
   "metadata": {
    "ExecuteTime": {
     "end_time": "2019-09-20T01:42:19.709924Z",
     "start_time": "2019-09-20T01:42:19.695968Z"
    }
   },
   "outputs": [
    {
     "name": "stdout",
     "output_type": "stream",
     "text": [
      "koalas memory usage is 56 bytes.\n",
      "pandas memory usage is 763.36 kilobytes.\n"
     ]
    }
   ],
   "source": [
    "print('koalas memory usage is {m} bytes.'.format(m=sys.getsizeof(df)))\n",
    "print('pandas memory usage is {m:.2f} kilobytes.'.format(m=sys.getsizeof(pddf)/10**3))"
   ]
  },
  {
   "cell_type": "markdown",
   "metadata": {},
   "source": [
    "##  Selecting Rows and Columns\n",
    "### Using __loc__"
   ]
  },
  {
   "cell_type": "code",
   "execution_count": 8,
   "metadata": {
    "ExecuteTime": {
     "end_time": "2019-09-19T17:29:25.216052Z",
     "start_time": "2019-09-19T17:29:24.358089Z"
    }
   },
   "outputs": [
    {
     "data": {
      "text/plain": [
       "90           XIANG ZHI RESTAURANT\n",
       "91             10 BELOW ICE CREAM\n",
       "92         NEW H.K. TEA AND SUSHI\n",
       "93     ELLIE'S DINER & RESTAURANT\n",
       "94      FORDHAM SEAFOOD & CHICKEN\n",
       "95                       SAPIENZA\n",
       "96                SAHARA NEW YORK\n",
       "97              JERRY'S 637 DINER\n",
       "98                  SUPREME DINER\n",
       "99                      PORTOFINO\n",
       "100               MURPHY'S TAVERN\n",
       "Name: DBA, dtype: object"
      ]
     },
     "execution_count": 8,
     "metadata": {},
     "output_type": "execute_result"
    }
   ],
   "source": [
    "df.loc[90:100,'DBA']"
   ]
  },
  {
   "cell_type": "markdown",
   "metadata": {},
   "source": [
    "### Difference between pandas and koalas in __iloc__ usage\n",
    "\n",
    "__iloc__ in koalas  does not allow the beginning of the row index to be assigned. \n",
    "\n",
    "i.e. __df.iloc[0:10,1]__ or __df.iloc[20:30,1:4]__ will not work in koalas. \n",
    "\n",
    "However, __df.iloc[:10,1]__ or __df.iloc[:30,1:4]__ will work."
   ]
  },
  {
   "cell_type": "code",
   "execution_count": 5,
   "metadata": {
    "ExecuteTime": {
     "end_time": "2019-09-20T01:41:00.964572Z",
     "start_time": "2019-09-20T01:41:00.490881Z"
    }
   },
   "outputs": [
    {
     "data": {
      "text/html": [
       "<div>\n",
       "<style scoped>\n",
       "    .dataframe tbody tr th:only-of-type {\n",
       "        vertical-align: middle;\n",
       "    }\n",
       "\n",
       "    .dataframe tbody tr th {\n",
       "        vertical-align: top;\n",
       "    }\n",
       "\n",
       "    .dataframe thead th {\n",
       "        text-align: right;\n",
       "    }\n",
       "</style>\n",
       "<table border=\"1\" class=\"dataframe\">\n",
       "  <thead>\n",
       "    <tr style=\"text-align: right;\">\n",
       "      <th></th>\n",
       "      <th>DBA</th>\n",
       "      <th>BORO</th>\n",
       "      <th>BUILDING</th>\n",
       "    </tr>\n",
       "  </thead>\n",
       "  <tbody>\n",
       "    <tr>\n",
       "      <th>0</th>\n",
       "      <td>GOLDEN KRUST CARIBBEAN BAKERY &amp; GRILL</td>\n",
       "      <td>Brooklyn</td>\n",
       "      <td>1887</td>\n",
       "    </tr>\n",
       "    <tr>\n",
       "      <th>1</th>\n",
       "      <td>CARIBBEAN JERKEE'S DELIGHT</td>\n",
       "      <td>Brooklyn</td>\n",
       "      <td>932</td>\n",
       "    </tr>\n",
       "    <tr>\n",
       "      <th>2</th>\n",
       "      <td>CARVEL ICE CREAM</td>\n",
       "      <td>Brooklyn</td>\n",
       "      <td>7517</td>\n",
       "    </tr>\n",
       "    <tr>\n",
       "      <th>3</th>\n",
       "      <td>ROYAL KING'S PIZZA</td>\n",
       "      <td>Brooklyn</td>\n",
       "      <td>5211</td>\n",
       "    </tr>\n",
       "    <tr>\n",
       "      <th>4</th>\n",
       "      <td>NACHO MACHO TACO</td>\n",
       "      <td>Brooklyn</td>\n",
       "      <td>82</td>\n",
       "    </tr>\n",
       "    <tr>\n",
       "      <th>5</th>\n",
       "      <td>JIAN ON CHINESE RESTAURANT</td>\n",
       "      <td>Queens</td>\n",
       "      <td>26805</td>\n",
       "    </tr>\n",
       "    <tr>\n",
       "      <th>6</th>\n",
       "      <td>BAGEL CLUB</td>\n",
       "      <td>Queens</td>\n",
       "      <td>20521</td>\n",
       "    </tr>\n",
       "    <tr>\n",
       "      <th>7</th>\n",
       "      <td>LUNA PIZZERIA</td>\n",
       "      <td>Brooklyn</td>\n",
       "      <td>1115</td>\n",
       "    </tr>\n",
       "    <tr>\n",
       "      <th>8</th>\n",
       "      <td>BOHAUS COFFEE  AND FLOWERS</td>\n",
       "      <td>Brooklyn</td>\n",
       "      <td>406</td>\n",
       "    </tr>\n",
       "    <tr>\n",
       "      <th>9</th>\n",
       "      <td>IL MULINO</td>\n",
       "      <td>Manhattan</td>\n",
       "      <td>86</td>\n",
       "    </tr>\n",
       "  </tbody>\n",
       "</table>\n",
       "</div>"
      ],
      "text/plain": [
       "                                     DBA       BORO BUILDING\n",
       "0  GOLDEN KRUST CARIBBEAN BAKERY & GRILL   Brooklyn     1887\n",
       "1             CARIBBEAN JERKEE'S DELIGHT   Brooklyn      932\n",
       "2                       CARVEL ICE CREAM   Brooklyn     7517\n",
       "3                     ROYAL KING'S PIZZA   Brooklyn     5211\n",
       "4                       NACHO MACHO TACO   Brooklyn       82\n",
       "5             JIAN ON CHINESE RESTAURANT     Queens    26805\n",
       "6                             BAGEL CLUB     Queens    20521\n",
       "7                          LUNA PIZZERIA   Brooklyn     1115\n",
       "8             BOHAUS COFFEE  AND FLOWERS   Brooklyn      406\n",
       "9                              IL MULINO  Manhattan       86"
      ]
     },
     "execution_count": 5,
     "metadata": {},
     "output_type": "execute_result"
    }
   ],
   "source": [
    "# In koalas the above selection won't work.\n",
    "df.iloc[:10,1:4]"
   ]
  },
  {
   "cell_type": "code",
   "execution_count": 10,
   "metadata": {
    "ExecuteTime": {
     "end_time": "2019-09-19T17:29:27.405747Z",
     "start_time": "2019-09-19T17:29:26.823839Z"
    }
   },
   "outputs": [
    {
     "data": {
      "text/html": [
       "<div>\n",
       "<style scoped>\n",
       "    .dataframe tbody tr th:only-of-type {\n",
       "        vertical-align: middle;\n",
       "    }\n",
       "\n",
       "    .dataframe tbody tr th {\n",
       "        vertical-align: top;\n",
       "    }\n",
       "\n",
       "    .dataframe thead th {\n",
       "        text-align: right;\n",
       "    }\n",
       "</style>\n",
       "<table border=\"1\" class=\"dataframe\">\n",
       "  <thead>\n",
       "    <tr style=\"text-align: right;\">\n",
       "      <th></th>\n",
       "      <th>INSPECTION DATE</th>\n",
       "      <th>Census Tract</th>\n",
       "    </tr>\n",
       "  </thead>\n",
       "  <tbody>\n",
       "    <tr>\n",
       "      <th>0</th>\n",
       "      <td>08/16/2017</td>\n",
       "      <td>102200.0</td>\n",
       "    </tr>\n",
       "    <tr>\n",
       "      <th>1</th>\n",
       "      <td>05/17/2017</td>\n",
       "      <td>86000.0</td>\n",
       "    </tr>\n",
       "    <tr>\n",
       "      <th>2</th>\n",
       "      <td>01/16/2019</td>\n",
       "      <td>6600.0</td>\n",
       "    </tr>\n",
       "    <tr>\n",
       "      <th>3</th>\n",
       "      <td>12/19/2018</td>\n",
       "      <td>10000.0</td>\n",
       "    </tr>\n",
       "    <tr>\n",
       "      <th>4</th>\n",
       "      <td>05/24/2017</td>\n",
       "      <td>12901.0</td>\n",
       "    </tr>\n",
       "    <tr>\n",
       "      <th>5</th>\n",
       "      <td>07/10/2017</td>\n",
       "      <td>157901.0</td>\n",
       "    </tr>\n",
       "  </tbody>\n",
       "</table>\n",
       "</div>"
      ],
      "text/plain": [
       "  INSPECTION DATE  Census Tract\n",
       "0      08/16/2017      102200.0\n",
       "1      05/17/2017       86000.0\n",
       "2      01/16/2019        6600.0\n",
       "3      12/19/2018       10000.0\n",
       "4      05/24/2017       12901.0\n",
       "5      07/10/2017      157901.0"
      ]
     },
     "execution_count": 10,
     "metadata": {},
     "output_type": "execute_result"
    }
   ],
   "source": [
    "df.loc[:5,['INSPECTION DATE','Census Tract']]"
   ]
  },
  {
   "cell_type": "code",
   "execution_count": 4,
   "metadata": {
    "ExecuteTime": {
     "end_time": "2019-09-20T01:40:47.249187Z",
     "start_time": "2019-09-20T01:40:46.109229Z"
    }
   },
   "outputs": [
    {
     "data": {
      "text/html": [
       "<div>\n",
       "<style scoped>\n",
       "    .dataframe tbody tr th:only-of-type {\n",
       "        vertical-align: middle;\n",
       "    }\n",
       "\n",
       "    .dataframe tbody tr th {\n",
       "        vertical-align: top;\n",
       "    }\n",
       "\n",
       "    .dataframe thead th {\n",
       "        text-align: right;\n",
       "    }\n",
       "</style>\n",
       "<table border=\"1\" class=\"dataframe\">\n",
       "  <thead>\n",
       "    <tr style=\"text-align: right;\">\n",
       "      <th></th>\n",
       "      <th>INSPECTION DATE</th>\n",
       "      <th>Census Tract</th>\n",
       "      <th>BORO</th>\n",
       "    </tr>\n",
       "  </thead>\n",
       "  <tbody>\n",
       "    <tr>\n",
       "      <th>0</th>\n",
       "      <td>08/16/2017</td>\n",
       "      <td>102200.0</td>\n",
       "      <td>Brooklyn</td>\n",
       "    </tr>\n",
       "    <tr>\n",
       "      <th>1</th>\n",
       "      <td>05/17/2017</td>\n",
       "      <td>86000.0</td>\n",
       "      <td>Brooklyn</td>\n",
       "    </tr>\n",
       "    <tr>\n",
       "      <th>4</th>\n",
       "      <td>05/24/2017</td>\n",
       "      <td>12901.0</td>\n",
       "      <td>Brooklyn</td>\n",
       "    </tr>\n",
       "    <tr>\n",
       "      <th>7</th>\n",
       "      <td>04/25/2017</td>\n",
       "      <td>55400.0</td>\n",
       "      <td>Brooklyn</td>\n",
       "    </tr>\n",
       "    <tr>\n",
       "      <th>8</th>\n",
       "      <td>10/23/2017</td>\n",
       "      <td>27500.0</td>\n",
       "      <td>Brooklyn</td>\n",
       "    </tr>\n",
       "  </tbody>\n",
       "</table>\n",
       "</div>"
      ],
      "text/plain": [
       "  INSPECTION DATE  Census Tract      BORO\n",
       "0      08/16/2017      102200.0  Brooklyn\n",
       "1      05/17/2017       86000.0  Brooklyn\n",
       "4      05/24/2017       12901.0  Brooklyn\n",
       "7      04/25/2017       55400.0  Brooklyn\n",
       "8      10/23/2017       27500.0  Brooklyn"
      ]
     },
     "execution_count": 4,
     "metadata": {},
     "output_type": "execute_result"
    }
   ],
   "source": [
    "(df.loc[(df['Census Tract'] > 10000) &\n",
    "        (df['BORO'] == 'Brooklyn'),\n",
    " ['INSPECTION DATE','Census Tract','BORO']]).head()"
   ]
  },
  {
   "cell_type": "markdown",
   "metadata": {},
   "source": [
    "## Column Manipulations"
   ]
  },
  {
   "cell_type": "markdown",
   "metadata": {},
   "source": [
    "### Change column type"
   ]
  },
  {
   "cell_type": "code",
   "execution_count": 50,
   "metadata": {
    "ExecuteTime": {
     "end_time": "2019-09-20T03:45:05.215858Z",
     "start_time": "2019-09-20T03:45:05.201492Z"
    }
   },
   "outputs": [],
   "source": [
    "df['INSPECTION DATE'] = df['INSPECTION DATE'].astype(str)"
   ]
  },
  {
   "cell_type": "markdown",
   "metadata": {
    "ExecuteTime": {
     "end_time": "2019-09-18T20:58:44.741211Z",
     "start_time": "2019-09-18T20:58:44.705215Z"
    }
   },
   "source": [
    "### Creating New Columns \n",
    " Using __DataFrame.assign__, a new column can be created but it will also generate the new dataframe where the new column is attached to the previous dataframe. In the following, we convert *inspection_date* column from __str__ to __datetime__ column. "
   ]
  },
  {
   "cell_type": "code",
   "execution_count": 51,
   "metadata": {
    "ExecuteTime": {
     "end_time": "2019-09-20T03:45:13.064380Z",
     "start_time": "2019-09-20T03:45:11.596092Z"
    }
   },
   "outputs": [
    {
     "data": {
      "text/html": [
       "<div>\n",
       "<style scoped>\n",
       "    .dataframe tbody tr th:only-of-type {\n",
       "        vertical-align: middle;\n",
       "    }\n",
       "\n",
       "    .dataframe tbody tr th {\n",
       "        vertical-align: top;\n",
       "    }\n",
       "\n",
       "    .dataframe thead th {\n",
       "        text-align: right;\n",
       "    }\n",
       "</style>\n",
       "<table border=\"1\" class=\"dataframe\">\n",
       "  <thead>\n",
       "    <tr style=\"text-align: right;\">\n",
       "      <th></th>\n",
       "      <th>CAMIS</th>\n",
       "      <th>DBA</th>\n",
       "      <th>BORO</th>\n",
       "      <th>BUILDING</th>\n",
       "      <th>STREET</th>\n",
       "      <th>ZIPCODE</th>\n",
       "      <th>PHONE</th>\n",
       "      <th>CUISINE DESCRIPTION</th>\n",
       "      <th>INSPECTION DATE</th>\n",
       "      <th>ACTION</th>\n",
       "      <th>VIOLATION CODE</th>\n",
       "      <th>VIOLATION DESCRIPTION</th>\n",
       "      <th>CRITICAL FLAG</th>\n",
       "      <th>SCORE</th>\n",
       "      <th>GRADE</th>\n",
       "      <th>GRADE DATE</th>\n",
       "      <th>RECORD DATE</th>\n",
       "      <th>INSPECTION TYPE</th>\n",
       "      <th>Latitude</th>\n",
       "      <th>Longitude</th>\n",
       "      <th>Community Board</th>\n",
       "      <th>Council District</th>\n",
       "      <th>Census Tract</th>\n",
       "      <th>BIN</th>\n",
       "      <th>BBL</th>\n",
       "      <th>NTA</th>\n",
       "      <th>inspection_date_dt</th>\n",
       "    </tr>\n",
       "  </thead>\n",
       "  <tbody>\n",
       "    <tr>\n",
       "      <th>0</th>\n",
       "      <td>41687715</td>\n",
       "      <td>GOLDEN KRUST CARIBBEAN BAKERY &amp; GRILL</td>\n",
       "      <td>Brooklyn</td>\n",
       "      <td>1887</td>\n",
       "      <td>ROCKAWAY PARKWAY</td>\n",
       "      <td>11236.0</td>\n",
       "      <td>7182094242</td>\n",
       "      <td>Caribbean</td>\n",
       "      <td>08/16/2017</td>\n",
       "      <td>Violations were cited in the following area(s).</td>\n",
       "      <td>02H</td>\n",
       "      <td>Food not cooled by an approved method whereby ...</td>\n",
       "      <td>Y</td>\n",
       "      <td>43.0</td>\n",
       "      <td>C</td>\n",
       "      <td>08/16/2017</td>\n",
       "      <td>09/18/2019</td>\n",
       "      <td>Cycle Inspection / Re-inspection</td>\n",
       "      <td>40.636304</td>\n",
       "      <td>-73.892472</td>\n",
       "      <td>318.0</td>\n",
       "      <td>46.0</td>\n",
       "      <td>102200.0</td>\n",
       "      <td>3233728.0</td>\n",
       "      <td>3.082810e+09</td>\n",
       "      <td>BK50</td>\n",
       "      <td>2017-08-16</td>\n",
       "    </tr>\n",
       "    <tr>\n",
       "      <th>1</th>\n",
       "      <td>50001450</td>\n",
       "      <td>CARIBBEAN JERKEE'S DELIGHT</td>\n",
       "      <td>Brooklyn</td>\n",
       "      <td>932</td>\n",
       "      <td>UTICA AVE</td>\n",
       "      <td>11203.0</td>\n",
       "      <td>5163438092</td>\n",
       "      <td>Caribbean</td>\n",
       "      <td>05/17/2017</td>\n",
       "      <td>Violations were cited in the following area(s).</td>\n",
       "      <td>10F</td>\n",
       "      <td>Non-food contact surface improperly constructe...</td>\n",
       "      <td>N</td>\n",
       "      <td>11.0</td>\n",
       "      <td>A</td>\n",
       "      <td>05/17/2017</td>\n",
       "      <td>09/18/2019</td>\n",
       "      <td>Cycle Inspection / Re-inspection</td>\n",
       "      <td>40.650458</td>\n",
       "      <td>-73.930256</td>\n",
       "      <td>317.0</td>\n",
       "      <td>45.0</td>\n",
       "      <td>86000.0</td>\n",
       "      <td>3102839.0</td>\n",
       "      <td>3.046970e+09</td>\n",
       "      <td>BK91</td>\n",
       "      <td>2017-05-17</td>\n",
       "    </tr>\n",
       "    <tr>\n",
       "      <th>2</th>\n",
       "      <td>50013528</td>\n",
       "      <td>CARVEL ICE CREAM</td>\n",
       "      <td>Brooklyn</td>\n",
       "      <td>7517</td>\n",
       "      <td>3RD AVE</td>\n",
       "      <td>11209.0</td>\n",
       "      <td>7187455200</td>\n",
       "      <td>American</td>\n",
       "      <td>01/16/2019</td>\n",
       "      <td>Violations were cited in the following area(s).</td>\n",
       "      <td>04K</td>\n",
       "      <td>Evidence of rats or live rats present in facil...</td>\n",
       "      <td>Y</td>\n",
       "      <td>10.0</td>\n",
       "      <td>A</td>\n",
       "      <td>01/16/2019</td>\n",
       "      <td>09/18/2019</td>\n",
       "      <td>Cycle Inspection / Initial Inspection</td>\n",
       "      <td>40.631268</td>\n",
       "      <td>-74.027856</td>\n",
       "      <td>310.0</td>\n",
       "      <td>43.0</td>\n",
       "      <td>6600.0</td>\n",
       "      <td>3148708.0</td>\n",
       "      <td>3.059400e+09</td>\n",
       "      <td>BK31</td>\n",
       "      <td>2019-01-16</td>\n",
       "    </tr>\n",
       "  </tbody>\n",
       "</table>\n",
       "</div>"
      ],
      "text/plain": [
       "      CAMIS                                    DBA      BORO BUILDING            STREET  ZIPCODE       PHONE CUISINE DESCRIPTION INSPECTION DATE                                           ACTION VIOLATION CODE                              VIOLATION DESCRIPTION CRITICAL FLAG  SCORE GRADE  GRADE DATE RECORD DATE                        INSPECTION TYPE   Latitude  Longitude  Community Board  Council District  Census Tract        BIN           BBL   NTA inspection_date_dt\n",
       "0  41687715  GOLDEN KRUST CARIBBEAN BAKERY & GRILL  Brooklyn     1887  ROCKAWAY PARKWAY  11236.0  7182094242           Caribbean      08/16/2017  Violations were cited in the following area(s).            02H  Food not cooled by an approved method whereby ...             Y   43.0     C  08/16/2017  09/18/2019       Cycle Inspection / Re-inspection  40.636304 -73.892472            318.0              46.0      102200.0  3233728.0  3.082810e+09  BK50         2017-08-16\n",
       "1  50001450             CARIBBEAN JERKEE'S DELIGHT  Brooklyn      932         UTICA AVE  11203.0  5163438092           Caribbean      05/17/2017  Violations were cited in the following area(s).            10F  Non-food contact surface improperly constructe...             N   11.0     A  05/17/2017  09/18/2019       Cycle Inspection / Re-inspection  40.650458 -73.930256            317.0              45.0       86000.0  3102839.0  3.046970e+09  BK91         2017-05-17\n",
       "2  50013528                       CARVEL ICE CREAM  Brooklyn     7517           3RD AVE  11209.0  7187455200            American      01/16/2019  Violations were cited in the following area(s).            04K  Evidence of rats or live rats present in facil...             Y   10.0     A  01/16/2019  09/18/2019  Cycle Inspection / Initial Inspection  40.631268 -74.027856            310.0              43.0        6600.0  3148708.0  3.059400e+09  BK31         2019-01-16"
      ]
     },
     "execution_count": 51,
     "metadata": {},
     "output_type": "execute_result"
    }
   ],
   "source": [
    "df_new  = df.assign(inspection_date_dt = lambda x : ks.to_datetime(x['INSPECTION DATE'],\n",
    "                                                        format='%m/%d/%Y',\n",
    "                                                         errors='coerce'))\n",
    "df_new.head(3)"
   ]
  },
  {
   "cell_type": "code",
   "execution_count": 52,
   "metadata": {
    "ExecuteTime": {
     "end_time": "2019-09-20T03:45:17.655953Z",
     "start_time": "2019-09-20T03:45:17.113703Z"
    },
    "scrolled": true
   },
   "outputs": [
    {
     "data": {
      "text/plain": [
       "0   2017-08-16\n",
       "1   2017-05-17\n",
       "2   2019-01-16\n",
       "3   2018-12-19\n",
       "4   2017-05-24\n",
       "Name: inspection_date_dt, dtype: datetime64[ns]"
      ]
     },
     "execution_count": 52,
     "metadata": {},
     "output_type": "execute_result"
    }
   ],
   "source": [
    "df_new['inspection_date_dt'].head()"
   ]
  },
  {
   "cell_type": "markdown",
   "metadata": {
    "ExecuteTime": {
     "end_time": "2019-09-19T16:26:45.787158Z",
     "start_time": "2019-09-19T16:26:43.730248Z"
    }
   },
   "source": [
    "### Filter By Datetime"
   ]
  },
  {
   "cell_type": "code",
   "execution_count": 53,
   "metadata": {
    "ExecuteTime": {
     "end_time": "2019-09-20T03:45:45.109394Z",
     "start_time": "2019-09-20T03:45:43.099214Z"
    },
    "scrolled": false
   },
   "outputs": [
    {
     "data": {
      "text/html": [
       "<div>\n",
       "<style scoped>\n",
       "    .dataframe tbody tr th:only-of-type {\n",
       "        vertical-align: middle;\n",
       "    }\n",
       "\n",
       "    .dataframe tbody tr th {\n",
       "        vertical-align: top;\n",
       "    }\n",
       "\n",
       "    .dataframe thead th {\n",
       "        text-align: right;\n",
       "    }\n",
       "</style>\n",
       "<table border=\"1\" class=\"dataframe\">\n",
       "  <thead>\n",
       "    <tr style=\"text-align: right;\">\n",
       "      <th></th>\n",
       "      <th>CAMIS</th>\n",
       "      <th>DBA</th>\n",
       "      <th>BORO</th>\n",
       "      <th>BUILDING</th>\n",
       "      <th>STREET</th>\n",
       "      <th>ZIPCODE</th>\n",
       "      <th>PHONE</th>\n",
       "      <th>CUISINE DESCRIPTION</th>\n",
       "      <th>INSPECTION DATE</th>\n",
       "      <th>ACTION</th>\n",
       "      <th>VIOLATION CODE</th>\n",
       "      <th>VIOLATION DESCRIPTION</th>\n",
       "      <th>CRITICAL FLAG</th>\n",
       "      <th>SCORE</th>\n",
       "      <th>GRADE</th>\n",
       "      <th>GRADE DATE</th>\n",
       "      <th>RECORD DATE</th>\n",
       "      <th>INSPECTION TYPE</th>\n",
       "      <th>Latitude</th>\n",
       "      <th>Longitude</th>\n",
       "      <th>Community Board</th>\n",
       "      <th>Council District</th>\n",
       "      <th>Census Tract</th>\n",
       "      <th>BIN</th>\n",
       "      <th>BBL</th>\n",
       "      <th>NTA</th>\n",
       "      <th>inspection_date_dt</th>\n",
       "    </tr>\n",
       "  </thead>\n",
       "  <tbody>\n",
       "    <tr>\n",
       "      <th>2</th>\n",
       "      <td>50013528</td>\n",
       "      <td>CARVEL ICE CREAM</td>\n",
       "      <td>Brooklyn</td>\n",
       "      <td>7517</td>\n",
       "      <td>3RD AVE</td>\n",
       "      <td>11209.0</td>\n",
       "      <td>7187455200</td>\n",
       "      <td>American</td>\n",
       "      <td>01/16/2019</td>\n",
       "      <td>Violations were cited in the following area(s).</td>\n",
       "      <td>04K</td>\n",
       "      <td>Evidence of rats or live rats present in facil...</td>\n",
       "      <td>Y</td>\n",
       "      <td>10.0</td>\n",
       "      <td>A</td>\n",
       "      <td>01/16/2019</td>\n",
       "      <td>09/18/2019</td>\n",
       "      <td>Cycle Inspection / Initial Inspection</td>\n",
       "      <td>40.631268</td>\n",
       "      <td>-74.027856</td>\n",
       "      <td>310.0</td>\n",
       "      <td>43.0</td>\n",
       "      <td>6600.0</td>\n",
       "      <td>3148708.0</td>\n",
       "      <td>3.059400e+09</td>\n",
       "      <td>BK31</td>\n",
       "      <td>2019-01-16</td>\n",
       "    </tr>\n",
       "    <tr>\n",
       "      <th>3</th>\n",
       "      <td>40396492</td>\n",
       "      <td>ROYAL KING'S PIZZA</td>\n",
       "      <td>Brooklyn</td>\n",
       "      <td>5211</td>\n",
       "      <td>5 AVENUE</td>\n",
       "      <td>11220.0</td>\n",
       "      <td>7184923846</td>\n",
       "      <td>Pizza</td>\n",
       "      <td>12/19/2018</td>\n",
       "      <td>Violations were cited in the following area(s).</td>\n",
       "      <td>04L</td>\n",
       "      <td>Evidence of mice or live mice present in facil...</td>\n",
       "      <td>Y</td>\n",
       "      <td>12.0</td>\n",
       "      <td>A</td>\n",
       "      <td>12/19/2018</td>\n",
       "      <td>09/18/2019</td>\n",
       "      <td>Cycle Inspection / Initial Inspection</td>\n",
       "      <td>40.643850</td>\n",
       "      <td>-74.011603</td>\n",
       "      <td>307.0</td>\n",
       "      <td>38.0</td>\n",
       "      <td>10000.0</td>\n",
       "      <td>3013939.0</td>\n",
       "      <td>3.008080e+09</td>\n",
       "      <td>BK34</td>\n",
       "      <td>2018-12-19</td>\n",
       "    </tr>\n",
       "    <tr>\n",
       "      <th>6</th>\n",
       "      <td>50092588</td>\n",
       "      <td>BAGEL CLUB</td>\n",
       "      <td>Queens</td>\n",
       "      <td>20521</td>\n",
       "      <td>35TH AVE</td>\n",
       "      <td>11361.0</td>\n",
       "      <td>7184236106</td>\n",
       "      <td>Bagels/Pretzels</td>\n",
       "      <td>08/12/2019</td>\n",
       "      <td>Violations were cited in the following area(s).</td>\n",
       "      <td>06F</td>\n",
       "      <td>Wiping cloths soiled or not stored in sanitizi...</td>\n",
       "      <td>Y</td>\n",
       "      <td>30.0</td>\n",
       "      <td>Z</td>\n",
       "      <td>08/12/2019</td>\n",
       "      <td>09/18/2019</td>\n",
       "      <td>Pre-permit (Operational) / Re-inspection</td>\n",
       "      <td>40.766748</td>\n",
       "      <td>-73.782586</td>\n",
       "      <td>411.0</td>\n",
       "      <td>19.0</td>\n",
       "      <td>109900.0</td>\n",
       "      <td>4135513.0</td>\n",
       "      <td>4.060900e+09</td>\n",
       "      <td>QN46</td>\n",
       "      <td>2019-08-12</td>\n",
       "    </tr>\n",
       "    <tr>\n",
       "      <th>11</th>\n",
       "      <td>41586413</td>\n",
       "      <td>CORNERSTONE CAFE</td>\n",
       "      <td>Manhattan</td>\n",
       "      <td>17</td>\n",
       "      <td>AVENUE B</td>\n",
       "      <td>10009.0</td>\n",
       "      <td>2122281260</td>\n",
       "      <td>American</td>\n",
       "      <td>01/25/2019</td>\n",
       "      <td>Violations were cited in the following area(s).</td>\n",
       "      <td>08A</td>\n",
       "      <td>Facility not vermin proof. Harborage or condit...</td>\n",
       "      <td>N</td>\n",
       "      <td>10.0</td>\n",
       "      <td>A</td>\n",
       "      <td>01/25/2019</td>\n",
       "      <td>09/18/2019</td>\n",
       "      <td>Cycle Inspection / Re-inspection</td>\n",
       "      <td>40.722106</td>\n",
       "      <td>-73.983361</td>\n",
       "      <td>103.0</td>\n",
       "      <td>2.0</td>\n",
       "      <td>2202.0</td>\n",
       "      <td>1004587.0</td>\n",
       "      <td>1.003850e+09</td>\n",
       "      <td>MN28</td>\n",
       "      <td>2019-01-25</td>\n",
       "    </tr>\n",
       "    <tr>\n",
       "      <th>12</th>\n",
       "      <td>50018980</td>\n",
       "      <td>MOKJA</td>\n",
       "      <td>Queens</td>\n",
       "      <td>3519</td>\n",
       "      <td>BROADWAY</td>\n",
       "      <td>11106.0</td>\n",
       "      <td>7187210654</td>\n",
       "      <td>Korean</td>\n",
       "      <td>01/03/2018</td>\n",
       "      <td>Violations were cited in the following area(s).</td>\n",
       "      <td>04N</td>\n",
       "      <td>Filth flies or food/refuse/sewage-associated (...</td>\n",
       "      <td>Y</td>\n",
       "      <td>10.0</td>\n",
       "      <td>None</td>\n",
       "      <td>None</td>\n",
       "      <td>09/18/2019</td>\n",
       "      <td>Cycle Inspection / Initial Inspection</td>\n",
       "      <td>40.760372</td>\n",
       "      <td>-73.921968</td>\n",
       "      <td>401.0</td>\n",
       "      <td>22.0</td>\n",
       "      <td>6100.0</td>\n",
       "      <td>4009761.0</td>\n",
       "      <td>4.006480e+09</td>\n",
       "      <td>QN70</td>\n",
       "      <td>2018-01-03</td>\n",
       "    </tr>\n",
       "  </tbody>\n",
       "</table>\n",
       "</div>"
      ],
      "text/plain": [
       "       CAMIS                 DBA       BORO BUILDING    STREET  ZIPCODE       PHONE CUISINE DESCRIPTION INSPECTION DATE                                           ACTION VIOLATION CODE                              VIOLATION DESCRIPTION CRITICAL FLAG  SCORE GRADE  GRADE DATE RECORD DATE                           INSPECTION TYPE   Latitude  Longitude  Community Board  Council District  Census Tract        BIN           BBL   NTA inspection_date_dt\n",
       "2   50013528    CARVEL ICE CREAM   Brooklyn     7517   3RD AVE  11209.0  7187455200            American      01/16/2019  Violations were cited in the following area(s).            04K  Evidence of rats or live rats present in facil...             Y   10.0     A  01/16/2019  09/18/2019     Cycle Inspection / Initial Inspection  40.631268 -74.027856            310.0              43.0        6600.0  3148708.0  3.059400e+09  BK31         2019-01-16\n",
       "3   40396492  ROYAL KING'S PIZZA   Brooklyn     5211  5 AVENUE  11220.0  7184923846               Pizza      12/19/2018  Violations were cited in the following area(s).            04L  Evidence of mice or live mice present in facil...             Y   12.0     A  12/19/2018  09/18/2019     Cycle Inspection / Initial Inspection  40.643850 -74.011603            307.0              38.0       10000.0  3013939.0  3.008080e+09  BK34         2018-12-19\n",
       "6   50092588          BAGEL CLUB     Queens    20521  35TH AVE  11361.0  7184236106     Bagels/Pretzels      08/12/2019  Violations were cited in the following area(s).            06F  Wiping cloths soiled or not stored in sanitizi...             Y   30.0     Z  08/12/2019  09/18/2019  Pre-permit (Operational) / Re-inspection  40.766748 -73.782586            411.0              19.0      109900.0  4135513.0  4.060900e+09  QN46         2019-08-12\n",
       "11  41586413    CORNERSTONE CAFE  Manhattan       17  AVENUE B  10009.0  2122281260            American      01/25/2019  Violations were cited in the following area(s).            08A  Facility not vermin proof. Harborage or condit...             N   10.0     A  01/25/2019  09/18/2019          Cycle Inspection / Re-inspection  40.722106 -73.983361            103.0               2.0        2202.0  1004587.0  1.003850e+09  MN28         2019-01-25\n",
       "12  50018980               MOKJA     Queens     3519  BROADWAY  11106.0  7187210654              Korean      01/03/2018  Violations were cited in the following area(s).            04N  Filth flies or food/refuse/sewage-associated (...             Y   10.0  None        None  09/18/2019     Cycle Inspection / Initial Inspection  40.760372 -73.921968            401.0              22.0        6100.0  4009761.0  4.006480e+09  QN70         2018-01-03"
      ]
     },
     "execution_count": 53,
     "metadata": {},
     "output_type": "execute_result"
    }
   ],
   "source": [
    "(df_new.loc[df_new['inspection_date_dt'].dt.year > 2017 ]\n",
    ".head())"
   ]
  },
  {
   "cell_type": "code",
   "execution_count": 54,
   "metadata": {
    "ExecuteTime": {
     "end_time": "2019-09-20T03:45:53.115311Z",
     "start_time": "2019-09-20T03:45:52.783785Z"
    }
   },
   "outputs": [
    {
     "data": {
      "text/plain": [
       "Manhattan        236\n",
       "Brooklyn         171\n",
       "Queens           120\n",
       "Bronx             49\n",
       "Staten Island     24\n",
       "Name: BORO, dtype: int64"
      ]
     },
     "execution_count": 54,
     "metadata": {},
     "output_type": "execute_result"
    }
   ],
   "source": [
    "df_new['BORO'].value_counts()"
   ]
  },
  {
   "cell_type": "markdown",
   "metadata": {},
   "source": [
    "### Currently index to list is not available. So the workaround is to convert the index to a column and then convert to a list. \n",
    "We have about 59 different descriptions for `cuisine_description` (`['American', 'Chinese', 'Pizza', 'Italian',...` ) and we are going to keep the top five descriptions and replace the reset with 'other'. "
   ]
  },
  {
   "cell_type": "code",
   "execution_count": 55,
   "metadata": {
    "ExecuteTime": {
     "end_time": "2019-09-20T03:46:38.159700Z",
     "start_time": "2019-09-20T03:46:37.599746Z"
    }
   },
   "outputs": [
    {
     "data": {
      "text/plain": [
       "(53,)"
      ]
     },
     "execution_count": 55,
     "metadata": {},
     "output_type": "execute_result"
    }
   ],
   "source": [
    "# 53 unique cuisine description.\n",
    "# ks.unique is not working right now. \n",
    "df_new['CUISINE DESCRIPTION'].value_counts().shape"
   ]
  },
  {
   "cell_type": "code",
   "execution_count": 56,
   "metadata": {
    "ExecuteTime": {
     "end_time": "2019-09-20T03:47:00.364937Z",
     "start_time": "2019-09-20T03:46:59.855146Z"
    }
   },
   "outputs": [
    {
     "name": "stdout",
     "output_type": "stream",
     "text": [
      "['American', 'Chinese', 'Pizza', 'Italian', 'Latin (Cuban, Dominican, Puerto Rican, South & Central American)']\n"
     ]
    }
   ],
   "source": [
    "top5_cuisines = (df_new['CUISINE DESCRIPTION']\n",
    "                .value_counts()\n",
    "                .head(5)\n",
    "                .reset_index().iloc[:,0].tolist())\n",
    "print(top5_cuisines)"
   ]
  },
  {
   "cell_type": "code",
   "execution_count": 21,
   "metadata": {
    "ExecuteTime": {
     "end_time": "2019-09-20T02:31:16.491352Z",
     "start_time": "2019-09-20T02:31:16.488305Z"
    }
   },
   "outputs": [],
   "source": [
    "# Function has to have return type hint. This is different from pandas.\n",
    "def replace_cuisines(x,list2exclude) -> str:\n",
    "    if x not in list2exclude:\n",
    "        x = 'other'\n",
    "    return x"
   ]
  },
  {
   "cell_type": "code",
   "execution_count": 57,
   "metadata": {
    "ExecuteTime": {
     "end_time": "2019-09-20T03:47:16.985311Z",
     "start_time": "2019-09-20T03:47:16.951005Z"
    }
   },
   "outputs": [],
   "source": [
    "# add new column and reasign to the previous dataframe df_new\n",
    "df_new = df_new.assign(cuisine_mod = df_new['CUISINE DESCRIPTION']\n",
    "              .apply(replace_cuisines, args=(top5_cuisines,)))"
   ]
  },
  {
   "cell_type": "code",
   "execution_count": 58,
   "metadata": {
    "ExecuteTime": {
     "end_time": "2019-09-20T03:47:29.189783Z",
     "start_time": "2019-09-20T03:47:27.981535Z"
    }
   },
   "outputs": [
    {
     "data": {
      "text/html": [
       "<div>\n",
       "<style scoped>\n",
       "    .dataframe tbody tr th:only-of-type {\n",
       "        vertical-align: middle;\n",
       "    }\n",
       "\n",
       "    .dataframe tbody tr th {\n",
       "        vertical-align: top;\n",
       "    }\n",
       "\n",
       "    .dataframe thead th {\n",
       "        text-align: right;\n",
       "    }\n",
       "</style>\n",
       "<table border=\"1\" class=\"dataframe\">\n",
       "  <thead>\n",
       "    <tr style=\"text-align: right;\">\n",
       "      <th></th>\n",
       "      <th>CAMIS</th>\n",
       "      <th>DBA</th>\n",
       "      <th>BORO</th>\n",
       "      <th>BUILDING</th>\n",
       "      <th>STREET</th>\n",
       "      <th>ZIPCODE</th>\n",
       "      <th>PHONE</th>\n",
       "      <th>CUISINE DESCRIPTION</th>\n",
       "      <th>INSPECTION DATE</th>\n",
       "      <th>ACTION</th>\n",
       "      <th>VIOLATION CODE</th>\n",
       "      <th>VIOLATION DESCRIPTION</th>\n",
       "      <th>CRITICAL FLAG</th>\n",
       "      <th>SCORE</th>\n",
       "      <th>GRADE</th>\n",
       "      <th>GRADE DATE</th>\n",
       "      <th>RECORD DATE</th>\n",
       "      <th>INSPECTION TYPE</th>\n",
       "      <th>Latitude</th>\n",
       "      <th>Longitude</th>\n",
       "      <th>Community Board</th>\n",
       "      <th>Council District</th>\n",
       "      <th>Census Tract</th>\n",
       "      <th>BIN</th>\n",
       "      <th>BBL</th>\n",
       "      <th>NTA</th>\n",
       "      <th>inspection_date_dt</th>\n",
       "      <th>cuisine_mod</th>\n",
       "    </tr>\n",
       "  </thead>\n",
       "  <tbody>\n",
       "    <tr>\n",
       "      <th>0</th>\n",
       "      <td>41687715</td>\n",
       "      <td>GOLDEN KRUST CARIBBEAN BAKERY &amp; GRILL</td>\n",
       "      <td>Brooklyn</td>\n",
       "      <td>1887</td>\n",
       "      <td>ROCKAWAY PARKWAY</td>\n",
       "      <td>11236.0</td>\n",
       "      <td>7182094242</td>\n",
       "      <td>Caribbean</td>\n",
       "      <td>08/16/2017</td>\n",
       "      <td>Violations were cited in the following area(s).</td>\n",
       "      <td>02H</td>\n",
       "      <td>Food not cooled by an approved method whereby ...</td>\n",
       "      <td>Y</td>\n",
       "      <td>43.0</td>\n",
       "      <td>C</td>\n",
       "      <td>08/16/2017</td>\n",
       "      <td>09/18/2019</td>\n",
       "      <td>Cycle Inspection / Re-inspection</td>\n",
       "      <td>40.636304</td>\n",
       "      <td>-73.892472</td>\n",
       "      <td>318.0</td>\n",
       "      <td>46.0</td>\n",
       "      <td>102200.0</td>\n",
       "      <td>3233728.0</td>\n",
       "      <td>3.082810e+09</td>\n",
       "      <td>BK50</td>\n",
       "      <td>2017-08-16</td>\n",
       "      <td>other</td>\n",
       "    </tr>\n",
       "    <tr>\n",
       "      <th>1</th>\n",
       "      <td>50001450</td>\n",
       "      <td>CARIBBEAN JERKEE'S DELIGHT</td>\n",
       "      <td>Brooklyn</td>\n",
       "      <td>932</td>\n",
       "      <td>UTICA AVE</td>\n",
       "      <td>11203.0</td>\n",
       "      <td>5163438092</td>\n",
       "      <td>Caribbean</td>\n",
       "      <td>05/17/2017</td>\n",
       "      <td>Violations were cited in the following area(s).</td>\n",
       "      <td>10F</td>\n",
       "      <td>Non-food contact surface improperly constructe...</td>\n",
       "      <td>N</td>\n",
       "      <td>11.0</td>\n",
       "      <td>A</td>\n",
       "      <td>05/17/2017</td>\n",
       "      <td>09/18/2019</td>\n",
       "      <td>Cycle Inspection / Re-inspection</td>\n",
       "      <td>40.650458</td>\n",
       "      <td>-73.930256</td>\n",
       "      <td>317.0</td>\n",
       "      <td>45.0</td>\n",
       "      <td>86000.0</td>\n",
       "      <td>3102839.0</td>\n",
       "      <td>3.046970e+09</td>\n",
       "      <td>BK91</td>\n",
       "      <td>2017-05-17</td>\n",
       "      <td>other</td>\n",
       "    </tr>\n",
       "    <tr>\n",
       "      <th>2</th>\n",
       "      <td>50013528</td>\n",
       "      <td>CARVEL ICE CREAM</td>\n",
       "      <td>Brooklyn</td>\n",
       "      <td>7517</td>\n",
       "      <td>3RD AVE</td>\n",
       "      <td>11209.0</td>\n",
       "      <td>7187455200</td>\n",
       "      <td>American</td>\n",
       "      <td>01/16/2019</td>\n",
       "      <td>Violations were cited in the following area(s).</td>\n",
       "      <td>04K</td>\n",
       "      <td>Evidence of rats or live rats present in facil...</td>\n",
       "      <td>Y</td>\n",
       "      <td>10.0</td>\n",
       "      <td>A</td>\n",
       "      <td>01/16/2019</td>\n",
       "      <td>09/18/2019</td>\n",
       "      <td>Cycle Inspection / Initial Inspection</td>\n",
       "      <td>40.631268</td>\n",
       "      <td>-74.027856</td>\n",
       "      <td>310.0</td>\n",
       "      <td>43.0</td>\n",
       "      <td>6600.0</td>\n",
       "      <td>3148708.0</td>\n",
       "      <td>3.059400e+09</td>\n",
       "      <td>BK31</td>\n",
       "      <td>2019-01-16</td>\n",
       "      <td>American</td>\n",
       "    </tr>\n",
       "    <tr>\n",
       "      <th>3</th>\n",
       "      <td>40396492</td>\n",
       "      <td>ROYAL KING'S PIZZA</td>\n",
       "      <td>Brooklyn</td>\n",
       "      <td>5211</td>\n",
       "      <td>5 AVENUE</td>\n",
       "      <td>11220.0</td>\n",
       "      <td>7184923846</td>\n",
       "      <td>Pizza</td>\n",
       "      <td>12/19/2018</td>\n",
       "      <td>Violations were cited in the following area(s).</td>\n",
       "      <td>04L</td>\n",
       "      <td>Evidence of mice or live mice present in facil...</td>\n",
       "      <td>Y</td>\n",
       "      <td>12.0</td>\n",
       "      <td>A</td>\n",
       "      <td>12/19/2018</td>\n",
       "      <td>09/18/2019</td>\n",
       "      <td>Cycle Inspection / Initial Inspection</td>\n",
       "      <td>40.643850</td>\n",
       "      <td>-74.011603</td>\n",
       "      <td>307.0</td>\n",
       "      <td>38.0</td>\n",
       "      <td>10000.0</td>\n",
       "      <td>3013939.0</td>\n",
       "      <td>3.008080e+09</td>\n",
       "      <td>BK34</td>\n",
       "      <td>2018-12-19</td>\n",
       "      <td>Pizza</td>\n",
       "    </tr>\n",
       "    <tr>\n",
       "      <th>4</th>\n",
       "      <td>50058248</td>\n",
       "      <td>NACHO MACHO TACO</td>\n",
       "      <td>Brooklyn</td>\n",
       "      <td>82</td>\n",
       "      <td>5TH AVE</td>\n",
       "      <td>11217.0</td>\n",
       "      <td>7186228282</td>\n",
       "      <td>Mexican</td>\n",
       "      <td>05/24/2017</td>\n",
       "      <td>Violations were cited in the following area(s).</td>\n",
       "      <td>06F</td>\n",
       "      <td>Wiping cloths soiled or not stored in sanitizi...</td>\n",
       "      <td>Y</td>\n",
       "      <td>25.0</td>\n",
       "      <td>None</td>\n",
       "      <td>None</td>\n",
       "      <td>09/18/2019</td>\n",
       "      <td>Cycle Inspection / Initial Inspection</td>\n",
       "      <td>40.680557</td>\n",
       "      <td>-73.977661</td>\n",
       "      <td>306.0</td>\n",
       "      <td>39.0</td>\n",
       "      <td>12901.0</td>\n",
       "      <td>3018668.0</td>\n",
       "      <td>3.009340e+09</td>\n",
       "      <td>BK37</td>\n",
       "      <td>2017-05-24</td>\n",
       "      <td>other</td>\n",
       "    </tr>\n",
       "  </tbody>\n",
       "</table>\n",
       "</div>"
      ],
      "text/plain": [
       "      CAMIS                                    DBA      BORO BUILDING            STREET  ZIPCODE       PHONE CUISINE DESCRIPTION INSPECTION DATE                                           ACTION VIOLATION CODE                              VIOLATION DESCRIPTION CRITICAL FLAG  SCORE GRADE  GRADE DATE RECORD DATE                        INSPECTION TYPE   Latitude  Longitude  Community Board  Council District  Census Tract        BIN           BBL   NTA inspection_date_dt cuisine_mod\n",
       "0  41687715  GOLDEN KRUST CARIBBEAN BAKERY & GRILL  Brooklyn     1887  ROCKAWAY PARKWAY  11236.0  7182094242           Caribbean      08/16/2017  Violations were cited in the following area(s).            02H  Food not cooled by an approved method whereby ...             Y   43.0     C  08/16/2017  09/18/2019       Cycle Inspection / Re-inspection  40.636304 -73.892472            318.0              46.0      102200.0  3233728.0  3.082810e+09  BK50         2017-08-16       other\n",
       "1  50001450             CARIBBEAN JERKEE'S DELIGHT  Brooklyn      932         UTICA AVE  11203.0  5163438092           Caribbean      05/17/2017  Violations were cited in the following area(s).            10F  Non-food contact surface improperly constructe...             N   11.0     A  05/17/2017  09/18/2019       Cycle Inspection / Re-inspection  40.650458 -73.930256            317.0              45.0       86000.0  3102839.0  3.046970e+09  BK91         2017-05-17       other\n",
       "2  50013528                       CARVEL ICE CREAM  Brooklyn     7517           3RD AVE  11209.0  7187455200            American      01/16/2019  Violations were cited in the following area(s).            04K  Evidence of rats or live rats present in facil...             Y   10.0     A  01/16/2019  09/18/2019  Cycle Inspection / Initial Inspection  40.631268 -74.027856            310.0              43.0        6600.0  3148708.0  3.059400e+09  BK31         2019-01-16    American\n",
       "3  40396492                     ROYAL KING'S PIZZA  Brooklyn     5211          5 AVENUE  11220.0  7184923846               Pizza      12/19/2018  Violations were cited in the following area(s).            04L  Evidence of mice or live mice present in facil...             Y   12.0     A  12/19/2018  09/18/2019  Cycle Inspection / Initial Inspection  40.643850 -74.011603            307.0              38.0       10000.0  3013939.0  3.008080e+09  BK34         2018-12-19       Pizza\n",
       "4  50058248                       NACHO MACHO TACO  Brooklyn       82           5TH AVE  11217.0  7186228282             Mexican      05/24/2017  Violations were cited in the following area(s).            06F  Wiping cloths soiled or not stored in sanitizi...             Y   25.0  None        None  09/18/2019  Cycle Inspection / Initial Inspection  40.680557 -73.977661            306.0              39.0       12901.0  3018668.0  3.009340e+09  BK37         2017-05-24       other"
      ]
     },
     "execution_count": 58,
     "metadata": {},
     "output_type": "execute_result"
    }
   ],
   "source": [
    "df_new.head()"
   ]
  },
  {
   "cell_type": "code",
   "execution_count": 59,
   "metadata": {
    "ExecuteTime": {
     "end_time": "2019-09-20T03:48:52.210673Z",
     "start_time": "2019-09-20T03:48:49.685888Z"
    }
   },
   "outputs": [
    {
     "data": {
      "text/html": [
       "<div>\n",
       "<style scoped>\n",
       "    .dataframe tbody tr th:only-of-type {\n",
       "        vertical-align: middle;\n",
       "    }\n",
       "\n",
       "    .dataframe tbody tr th {\n",
       "        vertical-align: top;\n",
       "    }\n",
       "\n",
       "    .dataframe thead th {\n",
       "        text-align: right;\n",
       "    }\n",
       "</style>\n",
       "<table border=\"1\" class=\"dataframe\">\n",
       "  <thead>\n",
       "    <tr style=\"text-align: right;\">\n",
       "      <th>CUISINE DESCRIPTION</th>\n",
       "      <th>African</th>\n",
       "      <th>American</th>\n",
       "      <th>Armenian</th>\n",
       "      <th>Asian</th>\n",
       "      <th>Australian</th>\n",
       "      <th>Bagels/Pretzels</th>\n",
       "      <th>Bakery</th>\n",
       "      <th>Bangladeshi</th>\n",
       "      <th>Barbecue</th>\n",
       "      <th>Café/Coffee/Tea</th>\n",
       "      <th>Caribbean</th>\n",
       "      <th>Chicken</th>\n",
       "      <th>Chinese</th>\n",
       "      <th>Chinese/Cuban</th>\n",
       "      <th>Chinese/Japanese</th>\n",
       "      <th>Continental</th>\n",
       "      <th>Delicatessen</th>\n",
       "      <th>Donuts</th>\n",
       "      <th>Eastern European</th>\n",
       "      <th>Filipino</th>\n",
       "      <th>French</th>\n",
       "      <th>Greek</th>\n",
       "      <th>Hamburgers</th>\n",
       "      <th>Ice Cream, Gelato, Yogurt, Ices</th>\n",
       "      <th>Indian</th>\n",
       "      <th>Irish</th>\n",
       "      <th>Italian</th>\n",
       "      <th>Japanese</th>\n",
       "      <th>Jewish/Kosher</th>\n",
       "      <th>Juice, Smoothies, Fruit Salads</th>\n",
       "      <th>Korean</th>\n",
       "      <th>Latin (Cuban, Dominican, Puerto Rican, South &amp; Central American)</th>\n",
       "      <th>Mediterranean</th>\n",
       "      <th>Mexican</th>\n",
       "      <th>Middle Eastern</th>\n",
       "      <th>Other</th>\n",
       "      <th>Pancakes/Waffles</th>\n",
       "      <th>Peruvian</th>\n",
       "      <th>Pizza</th>\n",
       "      <th>Pizza/Italian</th>\n",
       "      <th>Salads</th>\n",
       "      <th>Sandwiches</th>\n",
       "      <th>Sandwiches/Salads/Mixed Buffet</th>\n",
       "      <th>Seafood</th>\n",
       "      <th>Soul Food</th>\n",
       "      <th>Spanish</th>\n",
       "      <th>Steak</th>\n",
       "      <th>Tapas</th>\n",
       "      <th>Tex-Mex</th>\n",
       "      <th>Thai</th>\n",
       "      <th>Turkish</th>\n",
       "      <th>Vegetarian</th>\n",
       "      <th>Vietnamese/Cambodian/Malaysia</th>\n",
       "    </tr>\n",
       "    <tr>\n",
       "      <th>BORO</th>\n",
       "      <th></th>\n",
       "      <th></th>\n",
       "      <th></th>\n",
       "      <th></th>\n",
       "      <th></th>\n",
       "      <th></th>\n",
       "      <th></th>\n",
       "      <th></th>\n",
       "      <th></th>\n",
       "      <th></th>\n",
       "      <th></th>\n",
       "      <th></th>\n",
       "      <th></th>\n",
       "      <th></th>\n",
       "      <th></th>\n",
       "      <th></th>\n",
       "      <th></th>\n",
       "      <th></th>\n",
       "      <th></th>\n",
       "      <th></th>\n",
       "      <th></th>\n",
       "      <th></th>\n",
       "      <th></th>\n",
       "      <th></th>\n",
       "      <th></th>\n",
       "      <th></th>\n",
       "      <th></th>\n",
       "      <th></th>\n",
       "      <th></th>\n",
       "      <th></th>\n",
       "      <th></th>\n",
       "      <th></th>\n",
       "      <th></th>\n",
       "      <th></th>\n",
       "      <th></th>\n",
       "      <th></th>\n",
       "      <th></th>\n",
       "      <th></th>\n",
       "      <th></th>\n",
       "      <th></th>\n",
       "      <th></th>\n",
       "      <th></th>\n",
       "      <th></th>\n",
       "      <th></th>\n",
       "      <th></th>\n",
       "      <th></th>\n",
       "      <th></th>\n",
       "      <th></th>\n",
       "      <th></th>\n",
       "      <th></th>\n",
       "      <th></th>\n",
       "      <th></th>\n",
       "      <th></th>\n",
       "    </tr>\n",
       "  </thead>\n",
       "  <tbody>\n",
       "    <tr>\n",
       "      <th>Queens</th>\n",
       "      <td>NaN</td>\n",
       "      <td>388.0</td>\n",
       "      <td>NaN</td>\n",
       "      <td>27.0</td>\n",
       "      <td>NaN</td>\n",
       "      <td>30.0</td>\n",
       "      <td>64.0</td>\n",
       "      <td>NaN</td>\n",
       "      <td>NaN</td>\n",
       "      <td>94.0</td>\n",
       "      <td>199.0</td>\n",
       "      <td>48.0</td>\n",
       "      <td>270.0</td>\n",
       "      <td>NaN</td>\n",
       "      <td>25.0</td>\n",
       "      <td>NaN</td>\n",
       "      <td>153.0</td>\n",
       "      <td>8.0</td>\n",
       "      <td>46.0</td>\n",
       "      <td>56.0</td>\n",
       "      <td>NaN</td>\n",
       "      <td>13.0</td>\n",
       "      <td>20.0</td>\n",
       "      <td>NaN</td>\n",
       "      <td>84.0</td>\n",
       "      <td>13.0</td>\n",
       "      <td>36.0</td>\n",
       "      <td>31.0</td>\n",
       "      <td>NaN</td>\n",
       "      <td>38.0</td>\n",
       "      <td>70.0</td>\n",
       "      <td>346.0</td>\n",
       "      <td>10.0</td>\n",
       "      <td>58.0</td>\n",
       "      <td>61.0</td>\n",
       "      <td>NaN</td>\n",
       "      <td>NaN</td>\n",
       "      <td>70.0</td>\n",
       "      <td>45.0</td>\n",
       "      <td>NaN</td>\n",
       "      <td>NaN</td>\n",
       "      <td>165.0</td>\n",
       "      <td>NaN</td>\n",
       "      <td>NaN</td>\n",
       "      <td>NaN</td>\n",
       "      <td>240.0</td>\n",
       "      <td>NaN</td>\n",
       "      <td>NaN</td>\n",
       "      <td>None</td>\n",
       "      <td>26.0</td>\n",
       "      <td>13.0</td>\n",
       "      <td>NaN</td>\n",
       "      <td>NaN</td>\n",
       "    </tr>\n",
       "    <tr>\n",
       "      <th>Brooklyn</th>\n",
       "      <td>40.0</td>\n",
       "      <td>601.0</td>\n",
       "      <td>NaN</td>\n",
       "      <td>18.0</td>\n",
       "      <td>NaN</td>\n",
       "      <td>34.0</td>\n",
       "      <td>134.0</td>\n",
       "      <td>50.0</td>\n",
       "      <td>22.0</td>\n",
       "      <td>89.0</td>\n",
       "      <td>353.0</td>\n",
       "      <td>57.0</td>\n",
       "      <td>627.0</td>\n",
       "      <td>54.0</td>\n",
       "      <td>36.0</td>\n",
       "      <td>NaN</td>\n",
       "      <td>10.0</td>\n",
       "      <td>6.0</td>\n",
       "      <td>13.0</td>\n",
       "      <td>NaN</td>\n",
       "      <td>24.0</td>\n",
       "      <td>33.0</td>\n",
       "      <td>37.0</td>\n",
       "      <td>56.0</td>\n",
       "      <td>38.0</td>\n",
       "      <td>NaN</td>\n",
       "      <td>80.0</td>\n",
       "      <td>49.0</td>\n",
       "      <td>102.0</td>\n",
       "      <td>14.0</td>\n",
       "      <td>NaN</td>\n",
       "      <td>84.0</td>\n",
       "      <td>NaN</td>\n",
       "      <td>51.0</td>\n",
       "      <td>29.0</td>\n",
       "      <td>NaN</td>\n",
       "      <td>21.0</td>\n",
       "      <td>67.0</td>\n",
       "      <td>205.0</td>\n",
       "      <td>48.0</td>\n",
       "      <td>13.0</td>\n",
       "      <td>NaN</td>\n",
       "      <td>38.0</td>\n",
       "      <td>19.0</td>\n",
       "      <td>25.0</td>\n",
       "      <td>77.0</td>\n",
       "      <td>12.0</td>\n",
       "      <td>NaN</td>\n",
       "      <td>None</td>\n",
       "      <td>109.0</td>\n",
       "      <td>NaN</td>\n",
       "      <td>24.0</td>\n",
       "      <td>NaN</td>\n",
       "    </tr>\n",
       "    <tr>\n",
       "      <th>Staten Island</th>\n",
       "      <td>NaN</td>\n",
       "      <td>125.0</td>\n",
       "      <td>NaN</td>\n",
       "      <td>9.0</td>\n",
       "      <td>NaN</td>\n",
       "      <td>NaN</td>\n",
       "      <td>NaN</td>\n",
       "      <td>NaN</td>\n",
       "      <td>NaN</td>\n",
       "      <td>NaN</td>\n",
       "      <td>63.0</td>\n",
       "      <td>13.0</td>\n",
       "      <td>62.0</td>\n",
       "      <td>NaN</td>\n",
       "      <td>NaN</td>\n",
       "      <td>NaN</td>\n",
       "      <td>NaN</td>\n",
       "      <td>5.0</td>\n",
       "      <td>NaN</td>\n",
       "      <td>NaN</td>\n",
       "      <td>NaN</td>\n",
       "      <td>NaN</td>\n",
       "      <td>NaN</td>\n",
       "      <td>19.0</td>\n",
       "      <td>NaN</td>\n",
       "      <td>NaN</td>\n",
       "      <td>48.0</td>\n",
       "      <td>56.0</td>\n",
       "      <td>NaN</td>\n",
       "      <td>NaN</td>\n",
       "      <td>NaN</td>\n",
       "      <td>19.0</td>\n",
       "      <td>NaN</td>\n",
       "      <td>24.0</td>\n",
       "      <td>NaN</td>\n",
       "      <td>NaN</td>\n",
       "      <td>NaN</td>\n",
       "      <td>NaN</td>\n",
       "      <td>12.0</td>\n",
       "      <td>NaN</td>\n",
       "      <td>NaN</td>\n",
       "      <td>NaN</td>\n",
       "      <td>23.0</td>\n",
       "      <td>NaN</td>\n",
       "      <td>NaN</td>\n",
       "      <td>12.0</td>\n",
       "      <td>NaN</td>\n",
       "      <td>NaN</td>\n",
       "      <td>None</td>\n",
       "      <td>NaN</td>\n",
       "      <td>NaN</td>\n",
       "      <td>NaN</td>\n",
       "      <td>NaN</td>\n",
       "    </tr>\n",
       "    <tr>\n",
       "      <th>Manhattan</th>\n",
       "      <td>NaN</td>\n",
       "      <td>1671.0</td>\n",
       "      <td>NaN</td>\n",
       "      <td>NaN</td>\n",
       "      <td>72.0</td>\n",
       "      <td>12.0</td>\n",
       "      <td>117.0</td>\n",
       "      <td>3.0</td>\n",
       "      <td>34.0</td>\n",
       "      <td>218.0</td>\n",
       "      <td>3.0</td>\n",
       "      <td>55.0</td>\n",
       "      <td>282.0</td>\n",
       "      <td>46.0</td>\n",
       "      <td>NaN</td>\n",
       "      <td>12.0</td>\n",
       "      <td>69.0</td>\n",
       "      <td>31.0</td>\n",
       "      <td>25.0</td>\n",
       "      <td>NaN</td>\n",
       "      <td>120.0</td>\n",
       "      <td>25.0</td>\n",
       "      <td>13.0</td>\n",
       "      <td>20.0</td>\n",
       "      <td>50.0</td>\n",
       "      <td>40.0</td>\n",
       "      <td>328.0</td>\n",
       "      <td>199.0</td>\n",
       "      <td>82.0</td>\n",
       "      <td>25.0</td>\n",
       "      <td>34.0</td>\n",
       "      <td>91.0</td>\n",
       "      <td>NaN</td>\n",
       "      <td>146.0</td>\n",
       "      <td>12.0</td>\n",
       "      <td>10.0</td>\n",
       "      <td>NaN</td>\n",
       "      <td>NaN</td>\n",
       "      <td>192.0</td>\n",
       "      <td>48.0</td>\n",
       "      <td>36.0</td>\n",
       "      <td>69.0</td>\n",
       "      <td>NaN</td>\n",
       "      <td>30.0</td>\n",
       "      <td>NaN</td>\n",
       "      <td>29.0</td>\n",
       "      <td>41.0</td>\n",
       "      <td>11.0</td>\n",
       "      <td>None</td>\n",
       "      <td>12.0</td>\n",
       "      <td>18.0</td>\n",
       "      <td>40.0</td>\n",
       "      <td>88.0</td>\n",
       "    </tr>\n",
       "    <tr>\n",
       "      <th>Bronx</th>\n",
       "      <td>NaN</td>\n",
       "      <td>273.0</td>\n",
       "      <td>13.0</td>\n",
       "      <td>33.0</td>\n",
       "      <td>NaN</td>\n",
       "      <td>NaN</td>\n",
       "      <td>22.0</td>\n",
       "      <td>NaN</td>\n",
       "      <td>NaN</td>\n",
       "      <td>89.0</td>\n",
       "      <td>37.0</td>\n",
       "      <td>46.0</td>\n",
       "      <td>191.0</td>\n",
       "      <td>NaN</td>\n",
       "      <td>NaN</td>\n",
       "      <td>NaN</td>\n",
       "      <td>11.0</td>\n",
       "      <td>NaN</td>\n",
       "      <td>NaN</td>\n",
       "      <td>NaN</td>\n",
       "      <td>NaN</td>\n",
       "      <td>12.0</td>\n",
       "      <td>11.0</td>\n",
       "      <td>5.0</td>\n",
       "      <td>NaN</td>\n",
       "      <td>NaN</td>\n",
       "      <td>35.0</td>\n",
       "      <td>NaN</td>\n",
       "      <td>11.0</td>\n",
       "      <td>NaN</td>\n",
       "      <td>NaN</td>\n",
       "      <td>89.0</td>\n",
       "      <td>NaN</td>\n",
       "      <td>26.0</td>\n",
       "      <td>NaN</td>\n",
       "      <td>NaN</td>\n",
       "      <td>NaN</td>\n",
       "      <td>NaN</td>\n",
       "      <td>71.0</td>\n",
       "      <td>NaN</td>\n",
       "      <td>NaN</td>\n",
       "      <td>28.0</td>\n",
       "      <td>NaN</td>\n",
       "      <td>NaN</td>\n",
       "      <td>26.0</td>\n",
       "      <td>85.0</td>\n",
       "      <td>NaN</td>\n",
       "      <td>NaN</td>\n",
       "      <td>None</td>\n",
       "      <td>NaN</td>\n",
       "      <td>NaN</td>\n",
       "      <td>NaN</td>\n",
       "      <td>NaN</td>\n",
       "    </tr>\n",
       "  </tbody>\n",
       "</table>\n",
       "</div>"
      ],
      "text/plain": [
       "CUISINE DESCRIPTION  African  American  Armenian  Asian  Australian  Bagels/Pretzels  Bakery  Bangladeshi  Barbecue  Café/Coffee/Tea  Caribbean  Chicken  Chinese  Chinese/Cuban  Chinese/Japanese  Continental  Delicatessen  Donuts  Eastern European  Filipino  French  Greek  Hamburgers  Ice Cream, Gelato, Yogurt, Ices  Indian  Irish  Italian  Japanese  Jewish/Kosher  Juice, Smoothies, Fruit Salads  Korean  Latin (Cuban, Dominican, Puerto Rican, South & Central American)  Mediterranean  Mexican  Middle Eastern  Other  Pancakes/Waffles  Peruvian  Pizza  Pizza/Italian  Salads  Sandwiches  Sandwiches/Salads/Mixed Buffet  Seafood  Soul Food  Spanish  Steak  Tapas Tex-Mex   Thai  Turkish  Vegetarian  Vietnamese/Cambodian/Malaysia\n",
       "BORO                                                                                                                                                                                                                                                                                                                                                                                                                                                                                                                                                                                                                                                                                                                                                       \n",
       "Queens                   NaN     388.0       NaN   27.0         NaN             30.0    64.0          NaN       NaN             94.0      199.0     48.0    270.0            NaN              25.0          NaN         153.0     8.0              46.0      56.0     NaN   13.0        20.0                              NaN    84.0   13.0     36.0      31.0            NaN                            38.0    70.0                                              346.0                          10.0     58.0            61.0    NaN               NaN      70.0   45.0            NaN     NaN       165.0                             NaN      NaN        NaN    240.0    NaN    NaN    None   26.0     13.0         NaN                            NaN\n",
       "Brooklyn                40.0     601.0       NaN   18.0         NaN             34.0   134.0         50.0      22.0             89.0      353.0     57.0    627.0           54.0              36.0          NaN          10.0     6.0              13.0       NaN    24.0   33.0        37.0                             56.0    38.0    NaN     80.0      49.0          102.0                            14.0     NaN                                               84.0                           NaN     51.0            29.0    NaN              21.0      67.0  205.0           48.0    13.0         NaN                            38.0     19.0       25.0     77.0   12.0    NaN    None  109.0      NaN        24.0                            NaN\n",
       "Staten Island            NaN     125.0       NaN    9.0         NaN              NaN     NaN          NaN       NaN              NaN       63.0     13.0     62.0            NaN               NaN          NaN           NaN     5.0               NaN       NaN     NaN    NaN         NaN                             19.0     NaN    NaN     48.0      56.0            NaN                             NaN     NaN                                               19.0                           NaN     24.0             NaN    NaN               NaN       NaN   12.0            NaN     NaN         NaN                            23.0      NaN        NaN     12.0    NaN    NaN    None    NaN      NaN         NaN                            NaN\n",
       "Manhattan                NaN    1671.0       NaN    NaN        72.0             12.0   117.0          3.0      34.0            218.0        3.0     55.0    282.0           46.0               NaN         12.0          69.0    31.0              25.0       NaN   120.0   25.0        13.0                             20.0    50.0   40.0    328.0     199.0           82.0                            25.0    34.0                                               91.0                           NaN    146.0            12.0   10.0               NaN       NaN  192.0           48.0    36.0        69.0                             NaN     30.0        NaN     29.0   41.0   11.0    None   12.0     18.0        40.0                           88.0\n",
       "Bronx                    NaN     273.0      13.0   33.0         NaN              NaN    22.0          NaN       NaN             89.0       37.0     46.0    191.0            NaN               NaN          NaN          11.0     NaN               NaN       NaN     NaN   12.0        11.0                              5.0     NaN    NaN     35.0       NaN           11.0                             NaN     NaN                                               89.0                           NaN     26.0             NaN    NaN               NaN       NaN   71.0            NaN     NaN        28.0                             NaN      NaN       26.0     85.0    NaN    NaN    None    NaN      NaN         NaN                            NaN"
      ]
     },
     "execution_count": 59,
     "metadata": {},
     "output_type": "execute_result"
    }
   ],
   "source": [
    "table=df.pivot_table(values= r'SCORE',\n",
    "columns='CUISINE DESCRIPTION',\n",
    "index=['BORO'],aggfunc='sum')\n",
    "table"
   ]
  },
  {
   "cell_type": "markdown",
   "metadata": {},
   "source": [
    "## Save File"
   ]
  },
  {
   "cell_type": "code",
   "execution_count": 179,
   "metadata": {
    "ExecuteTime": {
     "end_time": "2019-09-19T20:08:43.768092Z",
     "start_time": "2019-09-19T20:08:40.910417Z"
    }
   },
   "outputs": [],
   "source": [
    "# Write a file to a folder named 'data'.\n",
    "df_new.to_csv(os.path.join('data','sample_mod.csv'))"
   ]
  },
  {
   "cell_type": "markdown",
   "metadata": {},
   "source": [
    "## Merge, Join & Concatenate"
   ]
  },
  {
   "cell_type": "code",
   "execution_count": 60,
   "metadata": {
    "ExecuteTime": {
     "end_time": "2019-09-20T04:17:26.497315Z",
     "start_time": "2019-09-20T04:17:25.794571Z"
    }
   },
   "outputs": [
    {
     "name": "stdout",
     "output_type": "stream",
     "text": [
      "df1 dimension = (600, 26)\n",
      "df2 dimension = (500, 26)\n"
     ]
    }
   ],
   "source": [
    "file1 = os.path.join('data','nyc_restaurant_inspection_results_sample1.csv')\n",
    "file2 = os.path.join('data','nyc_restaurant_inspection_results_sample2.csv')\n",
    "df1 = ks.read_csv(file1)\n",
    "df2 = ks.read_csv(file2)\n",
    "                 \n",
    "print('df1 dimension = {}'.format(df1.shape))\n",
    "print('df2 dimension = {}'.format(df2.shape))"
   ]
  },
  {
   "cell_type": "code",
   "execution_count": 215,
   "metadata": {
    "ExecuteTime": {
     "end_time": "2019-09-19T20:58:52.147267Z",
     "start_time": "2019-09-19T20:58:52.045274Z"
    }
   },
   "outputs": [],
   "source": [
    "join_df = df1.append(df2,ignore_index=True )"
   ]
  },
  {
   "cell_type": "code",
   "execution_count": 216,
   "metadata": {
    "ExecuteTime": {
     "end_time": "2019-09-19T20:58:54.285861Z",
     "start_time": "2019-09-19T20:58:54.149868Z"
    }
   },
   "outputs": [
    {
     "name": "stdout",
     "output_type": "stream",
     "text": [
      "(1100, 26)\n"
     ]
    }
   ],
   "source": [
    "print(join_df.shape)"
   ]
  },
  {
   "cell_type": "code",
   "execution_count": 61,
   "metadata": {
    "ExecuteTime": {
     "end_time": "2019-09-20T04:18:22.447111Z",
     "start_time": "2019-09-20T04:18:21.752141Z"
    }
   },
   "outputs": [
    {
     "data": {
      "text/html": [
       "<div>\n",
       "<style scoped>\n",
       "    .dataframe tbody tr th:only-of-type {\n",
       "        vertical-align: middle;\n",
       "    }\n",
       "\n",
       "    .dataframe tbody tr th {\n",
       "        vertical-align: top;\n",
       "    }\n",
       "\n",
       "    .dataframe thead th {\n",
       "        text-align: right;\n",
       "    }\n",
       "</style>\n",
       "<table border=\"1\" class=\"dataframe\">\n",
       "  <thead>\n",
       "    <tr style=\"text-align: right;\">\n",
       "      <th></th>\n",
       "      <th>CAMIS</th>\n",
       "      <th>DBA</th>\n",
       "      <th>BORO</th>\n",
       "      <th>BORO_right</th>\n",
       "      <th>BUILDING</th>\n",
       "    </tr>\n",
       "  </thead>\n",
       "  <tbody>\n",
       "    <tr>\n",
       "      <th>0</th>\n",
       "      <td>41687715</td>\n",
       "      <td>GOLDEN KRUST CARIBBEAN BAKERY &amp; GRILL</td>\n",
       "      <td>Brooklyn</td>\n",
       "      <td>Manhattan</td>\n",
       "      <td>34</td>\n",
       "    </tr>\n",
       "    <tr>\n",
       "      <th>1</th>\n",
       "      <td>50001450</td>\n",
       "      <td>CARIBBEAN JERKEE'S DELIGHT</td>\n",
       "      <td>Brooklyn</td>\n",
       "      <td>Queens</td>\n",
       "      <td>4021</td>\n",
       "    </tr>\n",
       "    <tr>\n",
       "      <th>2</th>\n",
       "      <td>50013528</td>\n",
       "      <td>CARVEL ICE CREAM</td>\n",
       "      <td>Brooklyn</td>\n",
       "      <td>Staten Island</td>\n",
       "      <td>27</td>\n",
       "    </tr>\n",
       "    <tr>\n",
       "      <th>3</th>\n",
       "      <td>40396492</td>\n",
       "      <td>ROYAL KING'S PIZZA</td>\n",
       "      <td>Brooklyn</td>\n",
       "      <td>Manhattan</td>\n",
       "      <td>68</td>\n",
       "    </tr>\n",
       "    <tr>\n",
       "      <th>4</th>\n",
       "      <td>50058248</td>\n",
       "      <td>NACHO MACHO TACO</td>\n",
       "      <td>Brooklyn</td>\n",
       "      <td>Queens</td>\n",
       "      <td>9507</td>\n",
       "    </tr>\n",
       "    <tr>\n",
       "      <th>5</th>\n",
       "      <td>40871752</td>\n",
       "      <td>JIAN ON CHINESE RESTAURANT</td>\n",
       "      <td>Queens</td>\n",
       "      <td>Manhattan</td>\n",
       "      <td>151</td>\n",
       "    </tr>\n",
       "    <tr>\n",
       "      <th>6</th>\n",
       "      <td>50092588</td>\n",
       "      <td>BAGEL CLUB</td>\n",
       "      <td>Queens</td>\n",
       "      <td>Brooklyn</td>\n",
       "      <td>1902</td>\n",
       "    </tr>\n",
       "    <tr>\n",
       "      <th>7</th>\n",
       "      <td>50060077</td>\n",
       "      <td>LUNA PIZZERIA</td>\n",
       "      <td>Brooklyn</td>\n",
       "      <td>Brooklyn</td>\n",
       "      <td>1789</td>\n",
       "    </tr>\n",
       "    <tr>\n",
       "      <th>8</th>\n",
       "      <td>50050890</td>\n",
       "      <td>BOHAUS COFFEE  AND FLOWERS</td>\n",
       "      <td>Brooklyn</td>\n",
       "      <td>Manhattan</td>\n",
       "      <td>2286</td>\n",
       "    </tr>\n",
       "    <tr>\n",
       "      <th>9</th>\n",
       "      <td>40373888</td>\n",
       "      <td>IL MULINO</td>\n",
       "      <td>Manhattan</td>\n",
       "      <td>Brooklyn</td>\n",
       "      <td>1020</td>\n",
       "    </tr>\n",
       "  </tbody>\n",
       "</table>\n",
       "</div>"
      ],
      "text/plain": [
       "      CAMIS                                    DBA       BORO     BORO_right BUILDING\n",
       "0  41687715  GOLDEN KRUST CARIBBEAN BAKERY & GRILL   Brooklyn      Manhattan       34\n",
       "1  50001450             CARIBBEAN JERKEE'S DELIGHT   Brooklyn         Queens     4021\n",
       "2  50013528                       CARVEL ICE CREAM   Brooklyn  Staten Island       27\n",
       "3  40396492                     ROYAL KING'S PIZZA   Brooklyn      Manhattan       68\n",
       "4  50058248                       NACHO MACHO TACO   Brooklyn         Queens     9507\n",
       "5  40871752             JIAN ON CHINESE RESTAURANT     Queens      Manhattan      151\n",
       "6  50092588                             BAGEL CLUB     Queens       Brooklyn     1902\n",
       "7  50060077                          LUNA PIZZERIA   Brooklyn       Brooklyn     1789\n",
       "8  50050890             BOHAUS COFFEE  AND FLOWERS   Brooklyn      Manhattan     2286\n",
       "9  40373888                              IL MULINO  Manhattan       Brooklyn     1020"
      ]
     },
     "execution_count": 61,
     "metadata": {},
     "output_type": "execute_result"
    }
   ],
   "source": [
    "df1.iloc[:10,:3].join(df2.iloc[:10,2:4],\n",
    "                       rsuffix='_right')"
   ]
  },
  {
   "cell_type": "code",
   "execution_count": null,
   "metadata": {},
   "outputs": [],
   "source": []
  }
 ],
 "metadata": {
  "jupytext": {
   "formats": "ipynb,py:percent"
  },
  "kernelspec": {
   "display_name": "Python 3",
   "language": "python",
   "name": "python3"
  },
  "language_info": {
   "codemirror_mode": {
    "name": "ipython",
    "version": 3
   },
   "file_extension": ".py",
   "mimetype": "text/x-python",
   "name": "python",
   "nbconvert_exporter": "python",
   "pygments_lexer": "ipython3",
   "version": "3.7.3"
  },
  "toc": {
   "base_numbering": 1,
   "nav_menu": {},
   "number_sections": true,
   "sideBar": true,
   "skip_h1_title": false,
   "title_cell": "Table of Contents",
   "title_sidebar": "Contents",
   "toc_cell": false,
   "toc_position": {},
   "toc_section_display": true,
   "toc_window_display": false
  }
 },
 "nbformat": 4,
 "nbformat_minor": 2
}
